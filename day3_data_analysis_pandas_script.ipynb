{
  "cells": [
    {
      "cell_type": "markdown",
      "metadata": {
        "id": "cE6vUuVR1_JY"
      },
      "source": [
        "## Flight delays- Data Exploration and Analysis with Pandas"
      ]
    },
    {
      "cell_type": "markdown",
      "metadata": {
        "id": "5B064FgO1_JZ"
      },
      "source": [
        "Problem: Our dataset contains data from the Bureau of the United States of transportation about the arrival, delay, and cancellation of domestic flights from July 2019 to July 2022. We will investigate and highlight which airlines and airports have the most delay and cancellation over time. We will also analyse the causes of the delays and cancellation."
      ]
    },
    {
      "cell_type": "markdown",
      "metadata": {
        "id": "t50Q9sad1_Ja"
      },
      "source": [
        "## 1-Data Exploration\n",
        "The first step of any data analysis is to explore your data with key Pandas commands:"
      ]
    },
    {
      "cell_type": "markdown",
      "metadata": {
        "id": "B9h9M08I1_Ja"
      },
      "source": [
        "Import the Pandas library only onced in your script:\n"
      ]
    },
    {
      "cell_type": "code",
      "execution_count": null,
      "metadata": {
        "id": "W1AtqTOc1_Jb"
      },
      "outputs": [],
      "source": [
        "#put you code below:\n"
      ]
    },
    {
      "cell_type": "markdown",
      "metadata": {
        "id": "FB68kjIg1_Jb"
      },
      "source": [
        "The dataset has 3 CSV files, let's import them all one by one, named them df1 to df3:"
      ]
    },
    {
      "cell_type": "code",
      "execution_count": null,
      "metadata": {
        "id": "M12ip_9I1_Jc"
      },
      "outputs": [],
      "source": [
        "#put you code below:\n"
      ]
    },
    {
      "cell_type": "markdown",
      "metadata": {
        "id": "P_8cLhSj1_Jc"
      },
      "source": [
        "The dataset contains data from US domestic flights from July 2019 to July 2022, and consists of the following fields:\n",
        "\n",
        "- year: the year of the flight\n",
        "- month: the month of the flight\n",
        "- carrier: the 2 letters abbreviation for the airline\n",
        "- carrier_name: the complete name of the airline\n",
        "- airport: the 3 letters Airport code\n",
        "- airport_name: the airport full name\n",
        "- arr_flights: number of arrived flights ontime\n",
        "- arr_del15: number of delayed flights (flights are considered delayed after 15 minutes of the arrival time)\n",
        "- arr_cancelled: number of cancelled flights\n",
        "- arr_diverted: number of diverted flights\n",
        "- arr_delay: number of delayed flights\n",
        "- carrier_delay: number of flights delayed caused by the carrier\n",
        "- weather_delay: number of flights delayed caused by the weather\n",
        "- nas_delay: number of flighst delayed caused by the National Aviation System\n",
        "- security_delay: number of flights delayed due to security issues\n"
      ]
    },
    {
      "cell_type": "markdown",
      "metadata": {
        "id": "Eao4_qFc1_Jc"
      },
      "source": [
        "Let's explore the 5 first rows of the dataframe named df1:\n"
      ]
    },
    {
      "cell_type": "code",
      "execution_count": null,
      "metadata": {
        "id": "j2yLYonp1_Jd",
        "outputId": "9b70f171-ae7d-4e6c-ee7c-b3057a6cebaf"
      },
      "outputs": [],
      "source": [
        "#put you code below:\n"
      ]
    },
    {
      "cell_type": "markdown",
      "metadata": {
        "id": "Jy5z7hNT1_Jd"
      },
      "source": [
        "Similarly, explore the 5 last rows of df1:"
      ]
    },
    {
      "cell_type": "code",
      "execution_count": null,
      "metadata": {
        "id": "Kadjq8cx1_Je",
        "outputId": "c964de62-03a8-4c5a-b167-cb47b06633c2"
      },
      "outputs": [],
      "source": [
        "#put you code below:\n"
      ]
    },
    {
      "cell_type": "markdown",
      "metadata": {
        "id": "YNwaL1Qu1_Je"
      },
      "source": [
        "Since our dataset has 3 CSV files, for convenience let's combine all files in one document\n",
        "using the .concat() method, explore the official documentation of the .concat() method to find out\n",
        "how to use it properly, read examples: https://pandas.pydata.org/pandas-docs/stable/reference/api/pandas.concat.html\n"
      ]
    },
    {
      "cell_type": "code",
      "execution_count": null,
      "metadata": {
        "id": "IulQN5oH1_Je"
      },
      "outputs": [],
      "source": [
        "#put you code below, make sure the index of the combined dataset is starting from 0:\n"
      ]
    },
    {
      "cell_type": "markdown",
      "metadata": {
        "id": "c339m6Vh1_Je"
      },
      "source": [
        "Let's explore the first few rows of the whole dataset:"
      ]
    },
    {
      "cell_type": "code",
      "execution_count": null,
      "metadata": {
        "id": "WrRjG7dc1_Je",
        "outputId": "6c97118d-56c7-4615-8ef6-03053ebf5871"
      },
      "outputs": [],
      "source": [
        "#put you code below:\n"
      ]
    },
    {
      "cell_type": "markdown",
      "metadata": {
        "id": "VVmzbT0_1_Je"
      },
      "source": [
        "How many rows and columns the dataset has?\n"
      ]
    },
    {
      "cell_type": "code",
      "execution_count": null,
      "metadata": {
        "id": "LzmGffdB1_Jf",
        "outputId": "81329d5c-5786-45e7-9135-6966cc4c9726"
      },
      "outputs": [],
      "source": [
        "#put you code below:\n"
      ]
    },
    {
      "cell_type": "markdown",
      "metadata": {},
      "source": [
        "Use the .info() medthod to finds out the number of rows and columns, the data types of each columns, the number of non-missing values (non-null), memory usage. Columns that contains strings datat (or mixed datatypes) will be recognised as Object in Pandas."
      ]
    },
    {
      "cell_type": "code",
      "execution_count": null,
      "metadata": {},
      "outputs": [],
      "source": [
        "#put you code below:\n"
      ]
    },
    {
      "cell_type": "markdown",
      "metadata": {
        "id": "YVeUMAq41_Jf"
      },
      "source": [
        "Make sure to check whether columns containing numerical values need to be converted as numeric for proper downstream analyses."
      ]
    },
    {
      "cell_type": "markdown",
      "metadata": {
        "id": "V0xPSOPH1_Jf"
      },
      "source": [
        "Alternatively, we can use the attribute shape to have only returned the number of rows and columns:"
      ]
    },
    {
      "cell_type": "code",
      "execution_count": null,
      "metadata": {
        "id": "PAboYdqn1_Jf",
        "outputId": "87c59487-1d29-4714-957c-c3fce1651f07"
      },
      "outputs": [],
      "source": [
        "#put you code below:\n"
      ]
    },
    {
      "cell_type": "markdown",
      "metadata": {
        "id": "BSGrCkM01_Jf"
      },
      "source": [
        "The attribute dtypes will return only the data types of each column:"
      ]
    },
    {
      "cell_type": "code",
      "execution_count": null,
      "metadata": {
        "id": "nD3J-FgF1_Jf",
        "outputId": "33de0345-c0b5-4334-aac3-247f3992df33"
      },
      "outputs": [],
      "source": [
        "#put you code below:\n"
      ]
    },
    {
      "cell_type": "markdown",
      "metadata": {
        "id": "cSFZViR21_Jg"
      },
      "source": [
        "We can quickly run some statistics with the describe() function:"
      ]
    },
    {
      "cell_type": "code",
      "execution_count": null,
      "metadata": {
        "id": "_BdvAIme1_Jg",
        "outputId": "f68eaec3-e709-4c05-9a2b-71beeaf54ade"
      },
      "outputs": [],
      "source": [
        "#put you code below:\n"
      ]
    },
    {
      "cell_type": "markdown",
      "metadata": {
        "id": "sYgV1ik51_Jg"
      },
      "source": [
        "Note: the 'year' and 'month' columns are seen as numerical values (they have the float datatype, as seen with the info() function). Hence, they will appear in the summary stats when using the describe() function. We would need to assigned to both the datetime datatype to be properly seen as dates."
      ]
    },
    {
      "cell_type": "markdown",
      "metadata": {
        "id": "5rbZPgwy1_Jg"
      },
      "source": [
        "## 2.Data tranformation:"
      ]
    },
    {
      "cell_type": "markdown",
      "metadata": {
        "id": "cJ9niPHe1_Jg"
      },
      "source": [
        "After exploring the dataset variables, some data transformation might be needed."
      ]
    },
    {
      "cell_type": "markdown",
      "metadata": {
        "id": "ng9fKBDz1_Jg"
      },
      "source": [
        "From the previous method used .info() we could see that the year and month are both float data types. To work efficiently with dates in Pandas, they need to be converted into a date datatype. This is done by using the .todatetime() method as followed:"
      ]
    },
    {
      "cell_type": "markdown",
      "metadata": {
        "id": "xn0icv0P1_Jg"
      },
      "source": [
        "Before doing any modications to our dataframe, we will create a copy to not modify yet the original dataset in case we insert an error and cannot remove it. If you make an error in the original dataset without creating a copy you will need to restart the Python intrepreter to clear data in memory and re-run your script from the start."
      ]
    },
    {
      "cell_type": "code",
      "execution_count": null,
      "metadata": {
        "id": "v5xtLqKz1_Jh"
      },
      "outputs": [],
      "source": [
        "df_copy= df.copy(deep=True)"
      ]
    },
    {
      "cell_type": "markdown",
      "metadata": {
        "id": "Sv529Ztp1_Jh"
      },
      "source": [
        "We could convert the year and month directly to date datatype but by default, the function will give us a day and month number associated to each date, which is not what we want to insert a wrong day and month"
      ]
    },
    {
      "cell_type": "code",
      "execution_count": null,
      "metadata": {
        "id": "FOFZDvbP1_Jh"
      },
      "outputs": [],
      "source": [
        "df_copy['year'] = pd.to_datetime(df_copy['year'])\n",
        "df_copy.head()"
      ]
    },
    {
      "cell_type": "markdown",
      "metadata": {
        "id": "82RDxe8Y1_Jh"
      },
      "source": [
        "We can create a new column named \"date\" to store the date which will have the \"month\" and \"year\" from our dataset. We can concatenate our 2 columns month and year using the \"+\" sign:"
      ]
    },
    {
      "cell_type": "code",
      "execution_count": null,
      "metadata": {
        "id": "dShvXmxi1_Jh",
        "outputId": "211590c7-3074-4118-8686-773f67488032"
      },
      "outputs": [],
      "source": [
        "df_copy['date']= df_copy['month']+df_copy['year']\n",
        "df_copy.head()"
      ]
    },
    {
      "cell_type": "markdown",
      "metadata": {
        "id": "Bs4zLRzk1_Jh"
      },
      "source": [
        "It looks like our new date column contain the wrong date in it, this is because the month has been added to the year since they are both integers data types!\n",
        "To overcome this problem, we need to change the month and year datatypes to a string.\n",
        "The .astype() method is used to cast pandas datatype to others:"
      ]
    },
    {
      "cell_type": "code",
      "execution_count": null,
      "metadata": {
        "id": "DpMXw6tK1_Jh",
        "outputId": "2f6b0ad9-fee1-4787-c9fe-04668e5acd0c"
      },
      "outputs": [],
      "source": [
        "#First, let's convert the month and year into a string datatype so we can concatenate them afterall:\n",
        "#We need to use the .astype() methodf to convert data in Pandas\n",
        "df_copy=df_copy.astype({\"month\": str, \"year\":str, \"date\":str})\n",
        "df_copy.info()"
      ]
    },
    {
      "cell_type": "markdown",
      "metadata": {
        "id": "LdPINmqa1_Js"
      },
      "source": [
        "Now our month and year column have been well transformed to a string data type called object in Pandas"
      ]
    },
    {
      "cell_type": "code",
      "execution_count": null,
      "metadata": {
        "id": "F_6YerkS1_Js",
        "outputId": "c4bfb5ce-36ce-42f3-a19a-564a76874899"
      },
      "outputs": [],
      "source": [
        "#alternative method to convert datatypes in Pandas:\n",
        "df_copy['month'].astype(str)\n",
        "df_copy['year'].astype(str)\n",
        "df_copy['date'].astype(str)"
      ]
    },
    {
      "cell_type": "code",
      "execution_count": null,
      "metadata": {
        "id": "9NZrVcNk1_Js",
        "outputId": "d0b7e37d-98a2-434e-a678-a6b757121361"
      },
      "outputs": [],
      "source": [
        "df_copy['date']= df_copy['year']+\"-\"+df_copy['month']\n",
        "df_copy.head()"
      ]
    },
    {
      "cell_type": "markdown",
      "metadata": {
        "id": "peYtiDb21_Jt"
      },
      "source": [
        "Now our new column named date have the right format with the year followed by the month.\n"
      ]
    },
    {
      "cell_type": "markdown",
      "metadata": {
        "id": "MteZyWCL1_Jt"
      },
      "source": [
        "Using the Pandas function .to_datetime() we can transform at once the date into a datetime datatype:"
      ]
    },
    {
      "cell_type": "code",
      "execution_count": null,
      "metadata": {
        "id": "vNq5u8tv1_Jt",
        "outputId": "466532c6-0a13-4171-8a65-8d756032b854"
      },
      "outputs": [],
      "source": [
        "df_copy['date'] = pd.to_datetime(df_copy['date'])\n",
        "df_copy.info()"
      ]
    },
    {
      "cell_type": "code",
      "execution_count": null,
      "metadata": {
        "id": "FZ7yUNTN1_Jt",
        "outputId": "ddd28f3d-fa13-4db6-bd31-fb5ff5f89103"
      },
      "outputs": [],
      "source": [
        "df_copy.head()"
      ]
    },
    {
      "cell_type": "markdown",
      "metadata": {
        "id": "xbty7ST-1_Jt"
      },
      "source": [
        "We can see from the column 'data' that we could assign datatime as datatype to the 'date' column, but doing this we also introduced by default a day number, here '01'. To overcome this we would beed to use an additonal function to get only the month and the year with a correct date format."
      ]
    },
    {
      "cell_type": "code",
      "execution_count": null,
      "metadata": {
        "id": "bsghQr_O1_Jt"
      },
      "outputs": [],
      "source": [
        "df_copy['date']= pd.to_datetime(df_copy['date']).dt.to_period('M')\n",
        "#.dt.to_period('M') converts the datetime values into a PeriodIndex with a monthly frequency (period)"
      ]
    },
    {
      "cell_type": "code",
      "execution_count": null,
      "metadata": {
        "id": "vMKVzkqR1_Ju",
        "outputId": "6f2579a8-c2d2-4fce-c521-690b8cd01d45"
      },
      "outputs": [],
      "source": [
        "df_copy.head()"
      ]
    },
    {
      "cell_type": "code",
      "execution_count": null,
      "metadata": {
        "id": "6kBrqWyl1_Ju",
        "outputId": "7aae45f2-d32d-4035-978d-cdfba0b88383"
      },
      "outputs": [],
      "source": [
        "df_copy.info()"
      ]
    },
    {
      "cell_type": "markdown",
      "metadata": {
        "id": "7JVnbyFu1_Ju"
      },
      "source": [
        "The 'date' column was assigned the 'period' datatype which is another date fromat used in pandas."
      ]
    },
    {
      "cell_type": "markdown",
      "metadata": {
        "id": "rRfI29QS1_Ju"
      },
      "source": [
        "Our new column \"date\" as been well created. Let's save it in our working folder:"
      ]
    },
    {
      "cell_type": "code",
      "execution_count": null,
      "metadata": {
        "id": "YS4aENya1_Ju"
      },
      "outputs": [],
      "source": [
        "df_copy.to_csv('flights_dataset.csv')"
      ]
    },
    {
      "cell_type": "markdown",
      "metadata": {
        "id": "UmHLuLQG1_Ju"
      },
      "source": [
        "Note: in the event you work with a dataset that has a column containing the full date named \"date\" for instance, you can set the date column to the datatype datetime directly when importing your dataset with Pandas using the argument \"parse_dates\" when calling the Pandas function such as: df=pd.read_csv(\"datafile\", parse_dates=[\"date\"])\n",
        "This will give you a date format with days, months, and years by default"
      ]
    },
    {
      "cell_type": "markdown",
      "metadata": {
        "id": "oXvW9tZC1_Ju"
      },
      "source": [
        "Let's removed unwanted columns, the month and year columns, using the medthod .drop():"
      ]
    },
    {
      "cell_type": "code",
      "execution_count": null,
      "metadata": {
        "id": "E_R_4l9Y1_Ju",
        "outputId": "d3ad57d7-3618-47ff-8300-a540c6a7857b"
      },
      "outputs": [],
      "source": [
        "#put you code below:\n"
      ]
    },
    {
      "cell_type": "markdown",
      "metadata": {
        "id": "1C2L5HPR1_Jv"
      },
      "source": [
        "The columns month and year has been well removed."
      ]
    },
    {
      "cell_type": "markdown",
      "metadata": {
        "id": "nZ99TsxS1_Jv"
      },
      "source": [
        "## 3-Data Cleaning\n",
        "The next step after exploring our dataset and correct some of the datatypes we did would be to clean the dataset"
      ]
    },
    {
      "cell_type": "markdown",
      "metadata": {
        "id": "nHr1hMPo1_Jv"
      },
      "source": [
        "Let's check how many missing values our dataset has using the isnull() and sum() function:"
      ]
    },
    {
      "cell_type": "code",
      "execution_count": null,
      "metadata": {
        "id": "DxNuc50B1_Jv",
        "outputId": "81e56343-2455-429f-cdc9-38608cfd2f9c"
      },
      "outputs": [],
      "source": [
        "#put you code below:\n"
      ]
    },
    {
      "cell_type": "markdown",
      "metadata": {
        "id": "i37yYOb-1_Jv"
      },
      "source": [
        "We can see see that missing values are presents in columns associated with numerical values and also in the carrier name. Missing data from the columns that contain important information on the name of the carrier or arilaine names that we are not able to identify can cause issues in our downstream analysis. We will me removed those for now since we cannot identify them.\n",
        "Replacing missing values should always be case specific!"
      ]
    },
    {
      "cell_type": "markdown",
      "metadata": {
        "id": "XnSlH6wG1_Jv"
      },
      "source": [
        "let's remove missing values from the carrier name:"
      ]
    },
    {
      "cell_type": "code",
      "execution_count": null,
      "metadata": {
        "id": "xmNN5zXM1_Jv"
      },
      "outputs": [],
      "source": [
        "#put you code below:\n"
      ]
    },
    {
      "cell_type": "markdown",
      "metadata": {
        "id": "nmb9R_ts1_Jv"
      },
      "source": [
        "Let's verify the dataframe don't have any missing values left:"
      ]
    },
    {
      "cell_type": "code",
      "execution_count": null,
      "metadata": {
        "id": "xdws2AM41_Jw",
        "outputId": "dbf6e7fd-b421-41ae-95d8-76b6af17f449"
      },
      "outputs": [],
      "source": [
        "#put you code below:\n"
      ]
    },
    {
      "cell_type": "markdown",
      "metadata": {
        "id": "M8u10dbJ1_Jw"
      },
      "source": [
        "### Let's check the distribution of the data:"
      ]
    },
    {
      "cell_type": "markdown",
      "metadata": {
        "id": "c1y8iGfd1_Jw"
      },
      "source": [
        "if you don't recall the name of the variables, use the following command to quickly get their names:"
      ]
    },
    {
      "cell_type": "code",
      "execution_count": null,
      "metadata": {
        "id": "Ut4-SOvs1_Jw",
        "outputId": "979f47e6-0ee1-401e-e3d9-fa85a3f2bee7"
      },
      "outputs": [],
      "source": [
        "df_copy.columns"
      ]
    },
    {
      "cell_type": "markdown",
      "metadata": {
        "id": "fB5MudGt1_Jw"
      },
      "source": [
        "We can check the data distribution to see if we get outliers in columns with numerical values using the built-in box_plot function in Pandas:"
      ]
    },
    {
      "cell_type": "markdown",
      "metadata": {
        "id": "mmEAK6Y_1_Jw"
      },
      "source": [
        "we apply the method .box_plot to our dataframe named \"df\""
      ]
    },
    {
      "cell_type": "code",
      "execution_count": null,
      "metadata": {
        "id": "UgL-zuPH1_Jw"
      },
      "outputs": [],
      "source": [
        "%matplotlib inline"
      ]
    },
    {
      "cell_type": "code",
      "execution_count": null,
      "metadata": {
        "id": "CftMw80C1_Jw",
        "outputId": "4a14a709-54c1-4b44-93e5-7b90f6901cb7"
      },
      "outputs": [],
      "source": [
        "df_copy.boxplot(\"weather_delay\")"
      ]
    },
    {
      "cell_type": "markdown",
      "metadata": {
        "id": "XeDGuBwn1_Jx"
      },
      "source": [
        "let's reuse the boxplot using a function:"
      ]
    },
    {
      "cell_type": "code",
      "execution_count": null,
      "metadata": {
        "id": "A6oNjtS41_Jx"
      },
      "outputs": [],
      "source": [
        "#We create a function that will return a box plot:\n",
        "def box_plot(flights):\n",
        "    return df_copy.boxplot(flights)"
      ]
    },
    {
      "cell_type": "code",
      "execution_count": null,
      "metadata": {
        "id": "fLtrweRc1_Jx",
        "outputId": "0cfb2f6c-dd64-4bd4-ec5c-4fd030b12461"
      },
      "outputs": [],
      "source": [
        "#We call our function passing a data variable as argument:\n",
        "box_plot('nas_delay')"
      ]
    },
    {
      "cell_type": "markdown",
      "metadata": {
        "id": "Ft2uPgl31_Jx"
      },
      "source": [
        "Call the function again to check other variables."
      ]
    },
    {
      "cell_type": "code",
      "execution_count": null,
      "metadata": {
        "id": "-ZwWnwxW1_Jx"
      },
      "outputs": [],
      "source": [
        "# Identify and remove the row with the outlier\n",
        "outlier_index= df_copy[df_copy['nas_delay']>175000].index\n",
        "df_cleaned= df_copy.drop(outlier_index)"
      ]
    },
    {
      "cell_type": "code",
      "execution_count": null,
      "metadata": {
        "id": "NXoC6lnP1_Jx",
        "outputId": "3860f00b-72c0-4363-8b42-6654a638a789"
      },
      "outputs": [],
      "source": [
        "outlier_index # we used the .index attribute to get the row number of our outlier"
      ]
    },
    {
      "cell_type": "code",
      "execution_count": null,
      "metadata": {
        "id": "9zUz0AlT1_Jy",
        "outputId": "8aa8f2ed-cec9-4339-9c10-64dc0f492349"
      },
      "outputs": [],
      "source": [
        "df_cleaned.boxplot('nas_delay')"
      ]
    },
    {
      "cell_type": "markdown",
      "metadata": {
        "id": "ih6qVZJ11_Jy"
      },
      "source": [
        "We can see from the above boxplot that the outliser has been well removed."
      ]
    },
    {
      "cell_type": "markdown",
      "metadata": {
        "id": "dZ78wMHC1_Jy"
      },
      "source": [
        "Using the Python Matplotlib visualisation library, we can plot several plots at once using the subplots() function:"
      ]
    },
    {
      "cell_type": "markdown",
      "metadata": {
        "id": "oEjfNKiT1_Jy"
      },
      "source": [
        "Let's import the Matplotlib library to use it"
      ]
    },
    {
      "cell_type": "code",
      "execution_count": null,
      "metadata": {
        "id": "bigCSm-W1_Jy"
      },
      "outputs": [],
      "source": [
        "import matplotlib.pyplot as plt"
      ]
    },
    {
      "cell_type": "code",
      "execution_count": null,
      "metadata": {
        "id": "t-6RWagi1_Jy",
        "outputId": "63c01e52-9911-4d3a-a8d2-ee4c872eaf63"
      },
      "outputs": [],
      "source": [
        "figure, ax = plt.subplots(nrows=2, ncols=1) # subplot layer has 2 rows an 1 column which means 2 figures\n",
        "df_cleaned.hist('weather_delay',ax=ax[0], bins=25, color=\"purple\")\n",
        "df_cleaned.boxplot(\"weather_delay\",ax=ax[1], color=\"blue\")\n"
      ]
    },
    {
      "cell_type": "markdown",
      "metadata": {
        "id": "vqPrcg6p1_Jy"
      },
      "source": [
        "Same as before, but saved into a function to reuse:"
      ]
    },
    {
      "cell_type": "code",
      "execution_count": null,
      "metadata": {
        "id": "mf_5cq0W1_Jz"
      },
      "outputs": [],
      "source": [
        "def subplot_function(data1, data2):  # I added one parameter per plot\n",
        "    figure, ax = plt.subplots(nrows=2, ncols=1)\n",
        "\n",
        "    # Get statistics\n",
        "    min_val= df_cleaned[data1].min()\n",
        "    max_val= df_cleaned[data1].max()\n",
        "    mean_val= df_cleaned[data1].mean()\n",
        "    med_val= df_cleaned[data1].median()\n",
        "\n",
        "    # Add lines for the min, mean and median, and max\n",
        "    ax[0].axvline(x=min_val, color = 'gray', linestyle='dashed', linewidth = 2)\n",
        "    ax[0].axvline(x=mean_val, color = 'cyan', linestyle='dashed', linewidth = 2)\n",
        "    ax[0].axvline(x=med_val, color = 'red', linestyle='dashed', linewidth = 2)\n",
        "    ax[0].axvline(x=max_val, color = 'blue', linestyle='dashed', linewidth = 2)\n",
        "\n",
        "    #Change labels- 1st plot\n",
        "    ax[0].set_ylabel('Frequency')\n",
        "\n",
        "    df_cleaned.hist(data1,ax=ax[0], bins=10, color=\"purple\")\n",
        "\n",
        "\n",
        "    #Change labels- 2nd plot\n",
        "    ax[1].set_xlabel('')\n",
        "    ax[1].set_ylabel('Frequency')\n",
        "\n",
        "\n",
        "    df_cleaned.boxplot(data2,ax=ax[1], color=\"blue\")"
      ]
    },
    {
      "cell_type": "code",
      "execution_count": null,
      "metadata": {
        "id": "9O7SoP-T1_Jz",
        "outputId": "2456a7e8-e43f-43bc-e22b-52780c28bc46"
      },
      "outputs": [],
      "source": [
        "subplot_function('nas_delay',\"nas_delay\")"
      ]
    },
    {
      "cell_type": "markdown",
      "metadata": {
        "id": "GLlltP8e1_Jz"
      },
      "source": [
        "## 4-Data Analysis\n"
      ]
    },
    {
      "cell_type": "markdown",
      "metadata": {
        "id": "u8EOiOAY1_Jz"
      },
      "source": [
        "#### Q1-Which Airlines has the most delayed flights?"
      ]
    },
    {
      "cell_type": "markdown",
      "metadata": {
        "id": "EXu9yLDy1_Jz"
      },
      "source": [
        "We can group the airline data and calculate the average of delayed flights per airline using the .groupby() method and mean() function"
      ]
    },
    {
      "cell_type": "code",
      "execution_count": null,
      "metadata": {
        "id": "BH-6zUxI1_Jz"
      },
      "outputs": [],
      "source": [
        "#put you code below:\n"
      ]
    },
    {
      "cell_type": "markdown",
      "metadata": {
        "id": "2Z77m9jk1_Jz"
      },
      "source": [
        "we can see how many airlines has been grouped with the function .size():"
      ]
    },
    {
      "cell_type": "code",
      "execution_count": null,
      "metadata": {
        "id": "w9o60fWu1_Jz",
        "outputId": "81ebdaf8-9cd1-404e-f254-b29e5e8b9f25"
      },
      "outputs": [],
      "source": [
        "#put you code below:\n"
      ]
    },
    {
      "cell_type": "markdown",
      "metadata": {
        "id": "aFnsAOQD1_Jz"
      },
      "source": [
        "next we calculate the mean of the delayed flights per airline:"
      ]
    },
    {
      "cell_type": "code",
      "execution_count": null,
      "metadata": {
        "id": "PjAc3WY81_J0"
      },
      "outputs": [],
      "source": [
        "#put you code below:\n"
      ]
    },
    {
      "cell_type": "markdown",
      "metadata": {
        "id": "jagNta9M1_J0"
      },
      "source": [
        "each arilines have associated the mean of deyalyed flights."
      ]
    },
    {
      "cell_type": "markdown",
      "metadata": {
        "id": "ge6oDflC1_J0"
      },
      "source": [
        "Let's plot the data using the Matplotlib and Seaborn visualisation libraries:"
      ]
    },
    {
      "cell_type": "markdown",
      "metadata": {
        "id": "JjzOtAJx1_J0"
      },
      "source": [
        "Always import a library prior to use it (only once in your script!):\n"
      ]
    },
    {
      "cell_type": "code",
      "execution_count": null,
      "metadata": {
        "id": "_L_tDA5K1_J0"
      },
      "outputs": [],
      "source": [
        "import matplotlib.pyplot as plt\n",
        "import seaborn as sns"
      ]
    },
    {
      "cell_type": "markdown",
      "metadata": {
        "id": "yLhG0nId1_J0"
      },
      "source": [
        "prior any plotting let's sort the data and use a barplot to plot the data to find out which airline has the most delayed flights:"
      ]
    },
    {
      "cell_type": "code",
      "execution_count": null,
      "metadata": {
        "id": "5M3Ig9f61_J0"
      },
      "outputs": [],
      "source": [
        "#put you code below:\n"
      ]
    },
    {
      "cell_type": "markdown",
      "metadata": {
        "id": "7fA3s5c21_J1"
      },
      "source": [
        "#### Q2-Which Airline is the most affected by both delayed and cancelled flights?"
      ]
    },
    {
      "cell_type": "markdown",
      "metadata": {
        "id": "jfJjO5gg1_J1"
      },
      "source": [
        "let's use a similar approach as the previous analysis with the groupby() method and ploting the relevant data:"
      ]
    },
    {
      "cell_type": "code",
      "execution_count": null,
      "metadata": {
        "id": "o2ZhaYFr1_J1"
      },
      "outputs": [],
      "source": [
        "#put you code below:\n"
      ]
    },
    {
      "cell_type": "markdown",
      "metadata": {
        "id": "OLcd8aeN1_J2"
      },
      "source": [
        "Let's investigate what could be the cause of the delayed of that company based on the data we have."
      ]
    },
    {
      "cell_type": "markdown",
      "metadata": {
        "id": "YGwrIv7_1_J2"
      },
      "source": [
        "#### Q3-What are the main cause of flights cancellations and delays for the company Southwest Airlines Co.?"
      ]
    },
    {
      "cell_type": "markdown",
      "metadata": {
        "id": "MO8NwUqO1_J2"
      },
      "source": [
        "Let's isolate data from the Southwest Airlines Co. to look at the causes. To do this we need to search for the company name in carrier_name column and isolate all columns related to that carrier."
      ]
    },
    {
      "cell_type": "code",
      "execution_count": null,
      "metadata": {
        "id": "3lcU_QK21_J2",
        "outputId": "489918b2-ed59-4565-ab45-f3791f5ec4ee"
      },
      "outputs": [],
      "source": [
        "df_cleaned[\"carrier_name\"].str.contains(\"Southwest Airlines Co.\")"
      ]
    },
    {
      "cell_type": "code",
      "execution_count": null,
      "metadata": {
        "id": "GhURro841_J3"
      },
      "outputs": [],
      "source": [
        "df_SW_airline=df_cleaned[df_cleaned[\"carrier_name\"].str.contains(\"Southwest Airlines Co.\")]"
      ]
    },
    {
      "cell_type": "code",
      "execution_count": null,
      "metadata": {
        "id": "7A2riM3u1_J3",
        "outputId": "edbc88b5-d70b-48bf-ee92-b268916fd68f"
      },
      "outputs": [],
      "source": [
        "df_SW_airline.head()"
      ]
    },
    {
      "cell_type": "code",
      "execution_count": null,
      "metadata": {
        "id": "13V9BwM61_J3",
        "outputId": "1909e65f-202f-418d-f5e6-cc1afaf7cae0"
      },
      "outputs": [],
      "source": [
        "# To confirm we have well isolated one carrier only:\n",
        "count=df_SW_airline[\"carrier_name\"].nunique()\n",
        "print(count)"
      ]
    },
    {
      "cell_type": "code",
      "execution_count": null,
      "metadata": {
        "id": "HWDuMPfT1_J3",
        "outputId": "21fbf1f8-9d2d-433a-d9be-7b830587d3fa"
      },
      "outputs": [],
      "source": [
        "# To confirm we have well isolated one carrier only- alternative method:\n",
        "df_SW_airline[\"carrier_name\"].value_counts()"
      ]
    },
    {
      "cell_type": "code",
      "execution_count": null,
      "metadata": {
        "id": "IyAeNOWJ1_J3",
        "outputId": "991d1170-64ed-49b2-fc08-35c1d42dc0ab"
      },
      "outputs": [],
      "source": [
        "df_SW_airline.keys() # same as the .columns attribute"
      ]
    },
    {
      "cell_type": "code",
      "execution_count": null,
      "metadata": {
        "id": "3IFwCjbE1_J3"
      },
      "outputs": [],
      "source": [
        "df_SW_subset=df_SW_airline[[\"carrier_delay\",\"weather_delay\",\"nas_delay\",\"security_delay\"]] # We are selecting only the columns related to causes of delay"
      ]
    },
    {
      "cell_type": "code",
      "execution_count": null,
      "metadata": {
        "id": "-7rlu43b1_J3",
        "outputId": "aa84cb53-036f-41fc-f551-0d2e5424cc29"
      },
      "outputs": [],
      "source": [
        "df_SW_subset.head()"
      ]
    },
    {
      "cell_type": "code",
      "execution_count": null,
      "metadata": {
        "id": "HovYi-xY1_J4",
        "outputId": "eadefed5-cb7f-47a6-f5c5-24cb2ccfb85e"
      },
      "outputs": [],
      "source": [
        "sum_data=df_SW_subset.sum()\n",
        "sum_data"
      ]
    },
    {
      "cell_type": "code",
      "execution_count": null,
      "metadata": {
        "id": "UW408KwQ1_J4",
        "outputId": "0e9fba41-4470-4a0d-b325-74d5bc1bcef4"
      },
      "outputs": [],
      "source": [
        "sum_df= sum_data.to_frame()\n",
        "sum_df"
      ]
    },
    {
      "cell_type": "code",
      "execution_count": null,
      "metadata": {
        "id": "0GJzFU1X1_J4",
        "outputId": "c06c832b-15da-4b5b-8e0c-bc65fe310da8"
      },
      "outputs": [],
      "source": [
        "sum_df=sum_df.rename(columns={0: 'causes'})\n",
        "sum_df"
      ]
    },
    {
      "cell_type": "markdown",
      "metadata": {},
      "source": [
        "plot the data to reply to the question"
      ]
    },
    {
      "cell_type": "markdown",
      "metadata": {
        "id": "VWj5qaSV1_J4"
      },
      "source": [
        "#### Q4-What are the main cause of flights cancellation and delays among the different airlines?"
      ]
    },
    {
      "cell_type": "markdown",
      "metadata": {},
      "source": [
        "Use previous function and visualisation library to reply to this question"
      ]
    },
    {
      "cell_type": "code",
      "execution_count": null,
      "metadata": {
        "id": "xs9GAb571_J5"
      },
      "outputs": [],
      "source": [
        "#put you code below:\n"
      ]
    }
  ],
  "metadata": {
    "colab": {
      "provenance": []
    },
    "kernelspec": {
      "display_name": "Python 3.9.10 64-bit ('3.9.10')",
      "language": "python",
      "name": "python3"
    },
    "language_info": {
      "codemirror_mode": {
        "name": "ipython",
        "version": 3
      },
      "file_extension": ".py",
      "mimetype": "text/x-python",
      "name": "python",
      "nbconvert_exporter": "python",
      "pygments_lexer": "ipython3",
      "version": "3.9.10"
    },
    "orig_nbformat": 4,
    "vscode": {
      "interpreter": {
        "hash": "606883ea077096275dbc91aa187651e9a95eb2fb9da9bfecb190344ab90fb188"
      }
    }
  },
  "nbformat": 4,
  "nbformat_minor": 0
}
